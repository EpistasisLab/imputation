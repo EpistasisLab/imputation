{
 "cells": [
  {
   "cell_type": "code",
   "execution_count": 68,
   "metadata": {
    "collapsed": false
   },
   "outputs": [],
   "source": [
    "import pickle as pkl\n",
    "import matplotlib.pyplot as plt\n",
    "import seaborn as sns\n",
    "import ggplot\n",
    "import os\n",
    "import pandas as pd\n",
    "%matplotlib inline\n",
    "\n",
    "scores = {}\n",
    "scores['MCAR'] = {}\n",
    "scores['MCAR']['0.1'] = []\n",
    "scores['MCAR']['0.2'] = []\n",
    "scores['MCAR']['0.3'] = []\n",
    "scores['MCAR']['0.4'] = []\n",
    "scores['MCAR']['0.5'] = []\n",
    "\n",
    "scores['MAR'] = {}\n",
    "scores['MNAR'] = {}\n",
    "\n",
    "for filename in os.listdir('./output/scores/'):\n",
    "    score = pkl.load(open('./output/scores/' + filename, 'rb'))\n",
    "    if filename.startswith('MCAR'):\n",
    "        if filename.split('_')[1] not in scores['MCAR']:\n",
    "            scores['MCAR'][filename.split('_')[1]] = []\n",
    "        for key, value in score.iteritems():\n",
    "            scores['MCAR'][filename.split('_')[1]].append(value)\n",
    "    elif filename.startswith('MAR'):\n",
    "        if filename.split('_')[2] not in scores['MAR']:\n",
    "            scores['MAR'][filename.split('_')[2]] = []\n",
    "        for key, value in score.iteritems():\n",
    "             scores['MAR'][filename.split('_')[2]].extend(value)\n",
    "#         if \n",
    "#         scores['MAR'].append(score)\n",
    "    else:\n",
    "        if filename.split('_')[3] not in scores['MNAR']:\n",
    "            scores['MNAR'][filename.split('_')[3]] = []\n",
    "        for key, value in score.iteritems():\n",
    "             scores['MNAR'][filename.split('_')[3]].extend(value)"
   ]
  },
  {
   "cell_type": "code",
   "execution_count": 69,
   "metadata": {
    "collapsed": false,
    "scrolled": true
   },
   "outputs": [
    {
     "data": {
      "text/plain": [
       "<matplotlib.axes._subplots.AxesSubplot at 0x11b714490>"
      ]
     },
     "execution_count": 69,
     "metadata": {},
     "output_type": "execute_result"
    },
    {
     "data": {
      "image/png": "[encoded data removed]",
      "text/plain": [
       "<matplotlib.figure.Figure at 0x11d11a250>"
      ]
     },
     "metadata": {},
     "output_type": "display_data"
    }
   ],
   "source": [
    "mcar = {'0.1': [], '0.2': [], '0.3': [], '0.4': [], '0.5': []}\n",
    "\n",
    "for missing in scores['MCAR']:\n",
    "    for results in scores['MCAR'][missing]:\n",
    "        mcar[missing].extend(results['rfc'])\n",
    "        \n",
    "mcar_df = pd.DataFrame.from_dict(mcar)\n",
    "sns.boxplot(mcar_df)"
   ]
  },
  {
   "cell_type": "code",
   "execution_count": 70,
   "metadata": {
    "collapsed": false,
    "scrolled": false
   },
   "outputs": [
    {
     "data": {
      "text/plain": [
       "<matplotlib.axes._subplots.AxesSubplot at 0x11c79ccd0>"
      ]
     },
     "execution_count": 70,
     "metadata": {},
     "output_type": "execute_result"
    },
    {
     "data": {
      "image/png": "[encoded data removed]",
      "text/plain": [
       "<matplotlib.figure.Figure at 0x11c364710>"
      ]
     },
     "metadata": {},
     "output_type": "display_data"
    }
   ],
   "source": [
    "mar_df = pd.DataFrame.from_dict(scores['MAR'])\n",
    "sns.boxplot(mar_df)"
   ]
  },
  {
   "cell_type": "code",
   "execution_count": 71,
   "metadata": {
    "collapsed": false
   },
   "outputs": [
    {
     "data": {
      "text/plain": [
       "<matplotlib.axes._subplots.AxesSubplot at 0x11a6e9790>"
      ]
     },
     "execution_count": 71,
     "metadata": {},
     "output_type": "execute_result"
    },
    {
     "data": {
      "image/png": "[encoded data removed]",
      "text/plain": [
       "<matplotlib.figure.Figure at 0x11d1ebf10>"
      ]
     },
     "metadata": {},
     "output_type": "display_data"
    }
   ],
   "source": [
    "mnar_df = pd.DataFrame.from_dict(scores['MNAR'])\n",
    "sns.boxplot(mnar_df)"
   ]
  },
  {
   "cell_type": "code",
   "execution_count": null,
   "metadata": {
    "collapsed": true
   },
   "outputs": [],
   "source": []
  }
 ],
 "metadata": {
  "kernelspec": {
   "display_name": "Python 2",
   "language": "python",
   "name": "python2"
  },
  "language_info": {
   "codemirror_mode": {
    "name": "ipython",
    "version": 2
   },
   "file_extension": ".py",
   "mimetype": "text/x-python",
   "name": "python",
   "nbconvert_exporter": "python",
   "pygments_lexer": "ipython2",
   "version": "2.7.12"
  }
 },
 "nbformat": 4,
 "nbformat_minor": 0
}
