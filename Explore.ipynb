{
 "cells": [
  {
   "cell_type": "code",
   "execution_count": 5,
   "metadata": {
    "collapsed": false
   },
   "outputs": [],
   "source": [
    "import pandas as pd"
   ]
  },
  {
   "cell_type": "code",
   "execution_count": 6,
   "metadata": {
    "collapsed": true
   },
   "outputs": [],
   "source": [
    "demographics_labs = pd.read_csv('./data/demographics_plus_lab.csv.gz')"
   ]
  },
  {
   "cell_type": "code",
   "execution_count": 7,
   "metadata": {
    "collapsed": false
   },
   "outputs": [
    {
     "name": "stdout",
     "output_type": "stream",
     "text": [
      "(858941, 148)\n",
      "   Unnamed: 0     ptid     SEX       Age       BMI  10330-9  10334-1  \\\n",
      "0           1      PT1  Female  1.569592  0.935738      NaN      NaN   \n",
      "1           2     PT10  Female -0.693803  1.821806      NaN      NaN   \n",
      "2           3    PT100    Male  1.219901  0.773302      NaN      NaN   \n",
      "3           4   PT1000    Male -1.809438       NaN      NaN      NaN   \n",
      "4           5  PT10000    Male  0.647103  0.660391      NaN      NaN   \n",
      "\n",
      "    10466-1   10501-5  10535-3    ...     748-4     751-8  763-3  764-1  \\\n",
      "0       NaN       NaN      NaN    ...       NaN -0.507462    NaN    NaN   \n",
      "1       NaN       NaN      NaN    ...       NaN  0.434325    NaN    NaN   \n",
      "2  0.475313       NaN      NaN    ...       NaN       NaN    NaN    NaN   \n",
      "3       NaN       NaN      NaN    ...       NaN       NaN    NaN    NaN   \n",
      "4       NaN -0.838984      NaN    ...       NaN       NaN    NaN    NaN   \n",
      "\n",
      "      777-3     785-6     786-4     787-2     788-0     789-8  \n",
      "0 -0.758341  0.165904 -0.148070  0.270975 -0.718736  0.466307  \n",
      "1  1.124630 -1.185995 -1.359026 -0.669254 -0.146144  0.168487  \n",
      "2       NaN       NaN       NaN       NaN       NaN       NaN  \n",
      "3  1.270308 -0.904602  0.481012 -1.179499 -0.521838  0.545940  \n",
      "4       NaN       NaN       NaN       NaN       NaN       NaN  \n",
      "\n",
      "[5 rows x 148 columns]\n",
      "(858941, 148)\n",
      "   Unnamed: 0     ptid  SEX       Age       BMI  10330-9  10334-1   10466-1  \\\n",
      "0           1      PT1  0.0  1.569592  0.935738      NaN      NaN       NaN   \n",
      "1           2     PT10  0.0 -0.693803  1.821806      NaN      NaN       NaN   \n",
      "2           3    PT100  1.0  1.219901  0.773302      NaN      NaN  0.475313   \n",
      "3           4   PT1000  1.0 -1.809438       NaN      NaN      NaN       NaN   \n",
      "4           5  PT10000  1.0  0.647103  0.660391      NaN      NaN       NaN   \n",
      "\n",
      "    10501-5  10535-3    ...     748-4     751-8  763-3  764-1     777-3  \\\n",
      "0       NaN      NaN    ...       NaN -0.507462    NaN    NaN -0.758341   \n",
      "1       NaN      NaN    ...       NaN  0.434325    NaN    NaN  1.124630   \n",
      "2       NaN      NaN    ...       NaN       NaN    NaN    NaN       NaN   \n",
      "3       NaN      NaN    ...       NaN       NaN    NaN    NaN  1.270308   \n",
      "4 -0.838984      NaN    ...       NaN       NaN    NaN    NaN       NaN   \n",
      "\n",
      "      785-6     786-4     787-2     788-0     789-8  \n",
      "0  0.165904 -0.148070  0.270975 -0.718736  0.466307  \n",
      "1 -1.185995 -1.359026 -0.669254 -0.146144  0.168487  \n",
      "2       NaN       NaN       NaN       NaN       NaN  \n",
      "3 -0.904602  0.481012 -1.179499 -0.521838  0.545940  \n",
      "4       NaN       NaN       NaN       NaN       NaN  \n",
      "\n",
      "[5 rows x 148 columns]\n"
     ]
    }
   ],
   "source": [
    "print(demographics_labs.shape)\n",
    "print(demographics_labs.head())\n",
    "demographics_labs['SEX'] = pd.get_dummies(demographics_labs['SEX'])['Male'] \n",
    "print(demographics_labs.shape)\n",
    "print(demographics_labs.head())"
   ]
  },
  {
   "cell_type": "code",
   "execution_count": 8,
   "metadata": {
    "collapsed": false
   },
   "outputs": [
    {
     "name": "stdout",
     "output_type": "stream",
     "text": [
      "(858941, 146)\n",
      "   SEX       Age       BMI  10330-9  10334-1   10466-1   10501-5  10535-3  \\\n",
      "0  0.0  1.569592  0.935738      NaN      NaN       NaN       NaN      NaN   \n",
      "1  0.0 -0.693803  1.821806      NaN      NaN       NaN       NaN      NaN   \n",
      "2  1.0  1.219901  0.773302      NaN      NaN  0.475313       NaN      NaN   \n",
      "3  1.0 -1.809438       NaN      NaN      NaN       NaN       NaN      NaN   \n",
      "4  1.0  0.647103  0.660391      NaN      NaN       NaN -0.838984      NaN   \n",
      "\n",
      "   10886-0  11572-5    ...     748-4     751-8  763-3  764-1     777-3  \\\n",
      "0      NaN      NaN    ...       NaN -0.507462    NaN    NaN -0.758341   \n",
      "1      NaN      NaN    ...       NaN  0.434325    NaN    NaN  1.124630   \n",
      "2      NaN      NaN    ...       NaN       NaN    NaN    NaN       NaN   \n",
      "3      NaN      NaN    ...       NaN       NaN    NaN    NaN  1.270308   \n",
      "4      NaN      NaN    ...       NaN       NaN    NaN    NaN       NaN   \n",
      "\n",
      "      785-6     786-4     787-2     788-0     789-8  \n",
      "0  0.165904 -0.148070  0.270975 -0.718736  0.466307  \n",
      "1 -1.185995 -1.359026 -0.669254 -0.146144  0.168487  \n",
      "2       NaN       NaN       NaN       NaN       NaN  \n",
      "3 -0.904602  0.481012 -1.179499 -0.521838  0.545940  \n",
      "4       NaN       NaN       NaN       NaN       NaN  \n",
      "\n",
      "[5 rows x 146 columns]\n"
     ]
    }
   ],
   "source": [
    "demographics_labs.drop(['Unnamed: 0', 'ptid'], inplace=True, axis=1)\n",
    "print(demographics_labs.shape)\n",
    "print(demographics_labs.head())\n",
    "\n",
    "demographics_labs.to_csv('./data/all_patients_all_labs.csv')"
   ]
  },
  {
   "cell_type": "code",
   "execution_count": null,
   "metadata": {
    "collapsed": false
   },
   "outputs": [],
   "source": [
    "import numpy as np\n",
    "import pickle as pkl\n",
    "\n",
    "pkl.dump(demographics_labs.as_matrix(), open('../demographics_plus_lab.pkl', 'wb'))"
   ]
  },
  {
   "cell_type": "code",
   "execution_count": null,
   "metadata": {
    "collapsed": false
   },
   "outputs": [],
   "source": [
    "import pandas as pd\n",
    "demo = pd.read_csv('./data/demographics_plus_lab.csv.gz')\n",
    "print(demo.shape)"
   ]
  },
  {
   "cell_type": "code",
   "execution_count": null,
   "metadata": {
    "collapsed": false
   },
   "outputs": [],
   "source": [
    "print(demo.columns)"
   ]
  },
  {
   "cell_type": "code",
   "execution_count": null,
   "metadata": {
    "collapsed": false
   },
   "outputs": [],
   "source": [
    "print(demo.count(axis=0).sort_values(ascending=False)[:37])"
   ]
  },
  {
   "cell_type": "code",
   "execution_count": null,
   "metadata": {
    "collapsed": false
   },
   "outputs": [],
   "source": [
    "cols = ['SEX', 'Age', 'BMI', '2345-7', '718-7', '4544-3',\n",
    "       '787-2', '786-4', '785-6', '2160-0', '2823-3', '32623-1',\n",
    "       '6690-2', '789-8', '788-0', '3094-0', '777-3', '2951-2',\n",
    "       '2075-0', '2028-9', '17861-6', '1743-4', '30239-8', '10466-1',\n",
    "       '1975-2', '2885-2', '751-8', '2093-3', '2085-9', '2571-8',\n",
    "       '13457-7']\n",
    "print(demo[cols].shape)\n",
    "all_patients = demo[cols]\n",
    "all_patients['SEX'] = pd.get_dummies(all_patients['SEX'])['Male'] "
   ]
  },
  {
   "cell_type": "code",
   "execution_count": null,
   "metadata": {
    "collapsed": true
   },
   "outputs": [],
   "source": [
    "all_patients.to_csv('./data/all_patients.csv')"
   ]
  },
  {
   "cell_type": "code",
   "execution_count": null,
   "metadata": {
    "collapsed": false
   },
   "outputs": [],
   "source": []
  },
  {
   "cell_type": "code",
   "execution_count": null,
   "metadata": {
    "collapsed": true
   },
   "outputs": [],
   "source": []
  }
 ],
 "metadata": {
  "anaconda-cloud": {},
  "kernelspec": {
   "display_name": "Python [default]",
   "language": "python",
   "name": "python2"
  },
  "language_info": {
   "codemirror_mode": {
    "name": "ipython",
    "version": 2
   },
   "file_extension": ".py",
   "mimetype": "text/x-python",
   "name": "python",
   "nbconvert_exporter": "python",
   "pygments_lexer": "ipython2",
   "version": "2.7.12"
  }
 },
 "nbformat": 4,
 "nbformat_minor": 0
}
