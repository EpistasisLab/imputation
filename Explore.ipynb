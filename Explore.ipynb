{
 "cells": [
  {
   "cell_type": "code",
   "execution_count": 2,
   "metadata": {
    "collapsed": false
   },
   "outputs": [
    {
     "name": "stdout",
     "output_type": "stream",
     "text": [
      "(1466822, 10)\n"
     ]
    }
   ],
   "source": [
    "import pandas as pd\n",
    "\n",
    "demographics = pd.read_csv('./data/demographics.csv.gz')"
   ]
  },
  {
   "cell_type": "code",
   "execution_count": 4,
   "metadata": {
    "collapsed": false
   },
   "outputs": [
    {
     "name": "stdout",
     "output_type": "stream",
     "text": [
      "(129547867, 4)\n"
     ]
    }
   ],
   "source": [
    "labs = pd.read_csv('./data/labs.csv.gz')\n",
    "print(labs.shape)"
   ]
  },
  {
   "cell_type": "code",
   "execution_count": 5,
   "metadata": {
    "collapsed": false
   },
   "outputs": [
    {
     "name": "stdout",
     "output_type": "stream",
     "text": [
      "(1466822, 10)\n",
      "Index([u'Unnamed: 0', u'V1', u'V2', u'V3', u'V4', u'V5', u'V6', u'V7', u'V8',\n",
      "       u'V9'],\n",
      "      dtype='object')\n",
      "(129547867, 4)\n",
      "Index([u'Unnamed: 0', u'valset', u'ptid', u'labres'], dtype='object')\n"
     ]
    }
   ],
   "source": [
    "print(demographics.shape)\n",
    "print(demographics.columns)\n",
    "\n",
    "print(labs.shape)\n",
    "print(labs.columns)"
   ]
  },
  {
   "cell_type": "code",
   "execution_count": 6,
   "metadata": {
    "collapsed": false
   },
   "outputs": [
    {
     "name": "stdout",
     "output_type": "stream",
     "text": [
      "   Unnamed: 0   valset       ptid  labres\n",
      "0           1  10330-9   PT955468       7\n",
      "1           2  10330-9  PT1270383      24\n",
      "2           3  10330-9   PT605778       1\n",
      "3           4  10330-9   PT144864       1\n",
      "4           5  10330-9   PT241026      10\n"
     ]
    }
   ],
   "source": [
    "print(labs.head())"
   ]
  },
  {
   "cell_type": "code",
   "execution_count": 9,
   "metadata": {
    "collapsed": false
   },
   "outputs": [
    {
     "name": "stdout",
     "output_type": "stream",
     "text": [
      "143\n"
     ]
    }
   ],
   "source": [
    "unique_labs = labs['valset'].unique()\n",
    "print(len(unique_labs))"
   ]
  },
  {
   "cell_type": "code",
   "execution_count": 11,
   "metadata": {
    "collapsed": false
   },
   "outputs": [
    {
     "name": "stdout",
     "output_type": "stream",
     "text": [
      "PT143102    14871\n",
      "PT198539    11325\n",
      "PT629222    10425\n",
      "PT672217    10130\n",
      "PT373654     9773\n",
      "Name: ptid, dtype: int64\n"
     ]
    }
   ],
   "source": [
    "print(labs['ptid'].value_counts()[:5])"
   ]
  },
  {
   "cell_type": "code",
   "execution_count": null,
   "metadata": {
    "collapsed": true
   },
   "outputs": [],
   "source": []
  }
 ],
 "metadata": {
  "kernelspec": {
   "display_name": "Python 2",
   "language": "python",
   "name": "python2"
  },
  "language_info": {
   "codemirror_mode": {
    "name": "ipython",
    "version": 2
   },
   "file_extension": ".py",
   "mimetype": "text/x-python",
   "name": "python",
   "nbconvert_exporter": "python",
   "pygments_lexer": "ipython2",
   "version": "2.7.12"
  }
 },
 "nbformat": 4,
 "nbformat_minor": 0
}
