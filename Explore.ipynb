{
 "cells": [
  {
   "cell_type": "code",
   "execution_count": 5,
   "metadata": {
    "collapsed": false
   },
   "outputs": [],
   "source": [
    "import pandas as pd"
   ]
  },
  {
   "cell_type": "code",
   "execution_count": 9,
   "metadata": {
    "collapsed": true
   },
   "outputs": [],
   "source": [
    "demographics_labs = pd.read_csv('./data/demographics_plus_lab.csv.gz')"
   ]
  },
  {
   "cell_type": "code",
   "execution_count": 10,
   "metadata": {
    "collapsed": false
   },
   "outputs": [
    {
     "name": "stdout",
     "output_type": "stream",
     "text": [
      "(858941, 148)\n",
      "   Unnamed: 0     ptid     SEX       Age       BMI  10330-9  10334-1  \\\n",
      "0           1      PT1  Female  1.569592  0.935738      NaN      NaN   \n",
      "1           2     PT10  Female -0.693803  1.821806      NaN      NaN   \n",
      "2           3    PT100    Male  1.219901  0.773302      NaN      NaN   \n",
      "3           4   PT1000    Male -1.809438       NaN      NaN      NaN   \n",
      "4           5  PT10000    Male  0.647103  0.660391      NaN      NaN   \n",
      "\n",
      "    10466-1   10501-5  10535-3    ...     748-4     751-8  763-3  764-1  \\\n",
      "0       NaN       NaN      NaN    ...       NaN -0.507462    NaN    NaN   \n",
      "1       NaN       NaN      NaN    ...       NaN  0.434325    NaN    NaN   \n",
      "2  0.475313       NaN      NaN    ...       NaN       NaN    NaN    NaN   \n",
      "3       NaN       NaN      NaN    ...       NaN       NaN    NaN    NaN   \n",
      "4       NaN -0.838984      NaN    ...       NaN       NaN    NaN    NaN   \n",
      "\n",
      "      777-3     785-6     786-4     787-2     788-0     789-8  \n",
      "0 -0.758341  0.165904 -0.148070  0.270975 -0.718736  0.466307  \n",
      "1  1.124630 -1.185995 -1.359026 -0.669254 -0.146144  0.168487  \n",
      "2       NaN       NaN       NaN       NaN       NaN       NaN  \n",
      "3  1.270308 -0.904602  0.481012 -1.179499 -0.521838  0.545940  \n",
      "4       NaN       NaN       NaN       NaN       NaN       NaN  \n",
      "\n",
      "[5 rows x 148 columns]\n",
      "(858941, 149)\n",
      "   Unnamed: 0     ptid       Age       BMI  10330-9  10334-1   10466-1  \\\n",
      "0           1      PT1  1.569592  0.935738      NaN      NaN       NaN   \n",
      "1           2     PT10 -0.693803  1.821806      NaN      NaN       NaN   \n",
      "2           3    PT100  1.219901  0.773302      NaN      NaN  0.475313   \n",
      "3           4   PT1000 -1.809438       NaN      NaN      NaN       NaN   \n",
      "4           5  PT10000  0.647103  0.660391      NaN      NaN       NaN   \n",
      "\n",
      "    10501-5  10535-3  10886-0  ...   763-3  764-1     777-3     785-6  \\\n",
      "0       NaN      NaN      NaN  ...     NaN    NaN -0.758341  0.165904   \n",
      "1       NaN      NaN      NaN  ...     NaN    NaN  1.124630 -1.185995   \n",
      "2       NaN      NaN      NaN  ...     NaN    NaN       NaN       NaN   \n",
      "3       NaN      NaN      NaN  ...     NaN    NaN  1.270308 -0.904602   \n",
      "4 -0.838984      NaN      NaN  ...     NaN    NaN       NaN       NaN   \n",
      "\n",
      "      786-4     787-2     788-0     789-8  Female  Male  \n",
      "0 -0.148070  0.270975 -0.718736  0.466307     1.0   0.0  \n",
      "1 -1.359026 -0.669254 -0.146144  0.168487     1.0   0.0  \n",
      "2       NaN       NaN       NaN       NaN     0.0   1.0  \n",
      "3  0.481012 -1.179499 -0.521838  0.545940     0.0   1.0  \n",
      "4       NaN       NaN       NaN       NaN     0.0   1.0  \n",
      "\n",
      "[5 rows x 149 columns]\n"
     ]
    }
   ],
   "source": [
    "print(demographics_labs.shape)\n",
    "print(demographics_labs.head())\n",
    "df_sex = pd.get_dummies(demographics_labs['SEX'])\n",
    "demographics_labs = pd.concat([demographics_labs, df_sex], axis=1)\n",
    "demographics_labs.drop(['SEX'], inplace=True, axis=1)\n",
    "print(demographics_labs.shape)\n",
    "print(demographics_labs.head())"
   ]
  },
  {
   "cell_type": "code",
   "execution_count": 12,
   "metadata": {
    "collapsed": false
   },
   "outputs": [
    {
     "name": "stdout",
     "output_type": "stream",
     "text": [
      "(858941, 147)\n",
      "        Age       BMI  10330-9  10334-1   10466-1   10501-5  10535-3  10886-0  \\\n",
      "0  1.569592  0.935738      NaN      NaN       NaN       NaN      NaN      NaN   \n",
      "1 -0.693803  1.821806      NaN      NaN       NaN       NaN      NaN      NaN   \n",
      "2  1.219901  0.773302      NaN      NaN  0.475313       NaN      NaN      NaN   \n",
      "3 -1.809438       NaN      NaN      NaN       NaN       NaN      NaN      NaN   \n",
      "4  0.647103  0.660391      NaN      NaN       NaN -0.838984      NaN      NaN   \n",
      "\n",
      "   11572-5   11580-8  ...   763-3  764-1     777-3     785-6     786-4  \\\n",
      "0      NaN -0.544822  ...     NaN    NaN -0.758341  0.165904 -0.148070   \n",
      "1      NaN       NaN  ...     NaN    NaN  1.124630 -1.185995 -1.359026   \n",
      "2      NaN       NaN  ...     NaN    NaN       NaN       NaN       NaN   \n",
      "3      NaN       NaN  ...     NaN    NaN  1.270308 -0.904602  0.481012   \n",
      "4      NaN       NaN  ...     NaN    NaN       NaN       NaN       NaN   \n",
      "\n",
      "      787-2     788-0     789-8  Female  Male  \n",
      "0  0.270975 -0.718736  0.466307     1.0   0.0  \n",
      "1 -0.669254 -0.146144  0.168487     1.0   0.0  \n",
      "2       NaN       NaN       NaN     0.0   1.0  \n",
      "3 -1.179499 -0.521838  0.545940     0.0   1.0  \n",
      "4       NaN       NaN       NaN     0.0   1.0  \n",
      "\n",
      "[5 rows x 147 columns]\n"
     ]
    }
   ],
   "source": [
    "demographics_labs.drop(['Unnamed: 0', 'ptid'], inplace=True, axis=1)\n",
    "print(demographics_labs.shape)\n",
    "print(demographics_labs.head())"
   ]
  },
  {
   "cell_type": "code",
   "execution_count": 14,
   "metadata": {
    "collapsed": false
   },
   "outputs": [],
   "source": [
    "import numpy as np\n",
    "import pickle as pkl\n",
    "\n",
    "pkl.dump(demographics_labs.as_matrix(), open('../demographics_plus_lab.pkl', 'wb'))"
   ]
  },
  {
   "cell_type": "code",
   "execution_count": null,
   "metadata": {
    "collapsed": true
   },
   "outputs": [],
   "source": []
  }
 ],
 "metadata": {
  "anaconda-cloud": {},
  "kernelspec": {
   "display_name": "Python [default]",
   "language": "python",
   "name": "python2"
  },
  "language_info": {
   "codemirror_mode": {
    "name": "ipython",
    "version": 2
   },
   "file_extension": ".py",
   "mimetype": "text/x-python",
   "name": "python",
   "nbconvert_exporter": "python",
   "pygments_lexer": "ipython2",
   "version": "2.7.12"
  }
 },
 "nbformat": 4,
 "nbformat_minor": 0
}
